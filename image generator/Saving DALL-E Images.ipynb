{
 "cells": [
  {
   "cell_type": "code",
   "execution_count": 1,
   "id": "39d7ac80",
   "metadata": {},
   "outputs": [],
   "source": [
    "import openai"
   ]
  },
  {
   "cell_type": "code",
   "execution_count": 2,
   "id": "b9da91ba",
   "metadata": {},
   "outputs": [],
   "source": [
    "import os"
   ]
  },
  {
   "cell_type": "code",
   "execution_count": 3,
   "id": "ebb075eb",
   "metadata": {},
   "outputs": [],
   "source": [
    "import requests"
   ]
  },
  {
   "cell_type": "code",
   "execution_count": 4,
   "id": "96de38cc",
   "metadata": {},
   "outputs": [],
   "source": [
    "from dotenv import dotenv_values"
   ]
  },
  {
   "cell_type": "code",
   "execution_count": 5,
   "id": "3b630436",
   "metadata": {},
   "outputs": [],
   "source": [
    "config = dotenv_values(\".env\")"
   ]
  },
  {
   "cell_type": "code",
   "execution_count": 6,
   "id": "b3cb65c7",
   "metadata": {},
   "outputs": [],
   "source": [
    "openai.api_key = config[\"OPENAI_API_KEY\"]"
   ]
  },
  {
   "cell_type": "markdown",
   "id": "711f3bd5",
   "metadata": {},
   "source": [
    "## Saving Images From URLS"
   ]
  },
  {
   "cell_type": "code",
   "execution_count": 7,
   "id": "43f67264",
   "metadata": {},
   "outputs": [],
   "source": [
    "def save_image(url, image_name):\n",
    "    image_directory_name = \"images\"\n",
    "    image_directory = os.path.join(os.curdir, image_directory_name)\n",
    "\n",
    "    if not os.path.isdir(image_directory):\n",
    "        os.mkdir(image_directory)\n",
    "        \n",
    "    image_filepath = os.path.join(image_directory, image_name)\n",
    "    \n",
    "    image_content = requests.get(url).content\n",
    "    \n",
    "    with open(image_filepath, \"wb\") as image_file:\n",
    "        image_file.write(image_content)"
   ]
  },
  {
   "cell_type": "code",
   "execution_count": 8,
   "id": "4ff2782d",
   "metadata": {},
   "outputs": [],
   "source": [
    "def get_image(prompt, image_name):\n",
    "    res = openai.Image.create(\n",
    "        prompt=prompt,\n",
    "        size=\"512x512\",\n",
    "        n=1\n",
    "    )\n",
    "    image_url = res[\"data\"][0][\"url\"]\n",
    "    save_image(image_url, image_name)"
   ]
  },
  {
   "cell_type": "code",
   "execution_count": 25,
   "id": "a41f2e00",
   "metadata": {},
   "outputs": [],
   "source": [
    "get_image(\n",
    "    prompt=\"a sunset from a graveyard with a skeleton reading a novel\",\n",
    "    image_name=\"graveyard.png\"\n",
    ")"
   ]
  },
  {
   "cell_type": "code",
   "execution_count": 26,
   "id": "30800c03",
   "metadata": {},
   "outputs": [],
   "source": [
    "get_image(\n",
    "    prompt=\"a 3d rendering of a melting peach popsicle against a gradient background\",\n",
    "    image_name=\"popsicle.png\"\n",
    ")"
   ]
  },
  {
   "cell_type": "code",
   "execution_count": 9,
   "id": "5f120c15",
   "metadata": {},
   "outputs": [],
   "source": [
    "get_image(\n",
    "    prompt=\"a 3d rendering of a melting peach popsicle against a rainbow background\",\n",
    "    image_name=\"popsicle2.png\"\n",
    ")"
   ]
  },
  {
   "cell_type": "markdown",
   "id": "37169e46",
   "metadata": {},
   "source": [
    "## Saving Images Using B64 JSON"
   ]
  },
  {
   "cell_type": "code",
   "execution_count": 12,
   "id": "5285d438",
   "metadata": {},
   "outputs": [],
   "source": [
    "import base64"
   ]
  },
  {
   "cell_type": "code",
   "execution_count": 16,
   "id": "97369bbe",
   "metadata": {},
   "outputs": [],
   "source": [
    "def get_and_save_image(prompt, image_name):\n",
    "    res = openai.Image.create(\n",
    "        prompt=prompt,\n",
    "        size=\"512x512\",\n",
    "        n=1,\n",
    "        response_format=\"b64_json\"\n",
    "    )\n",
    "    image_data = res[\"data\"][0][\"b64_json\"]\n",
    "    \n",
    "    image_directory_name = \"images\"\n",
    "    image_directory = os.path.join(os.curdir, image_directory_name)\n",
    "\n",
    "    if not os.path.isdir(image_directory):\n",
    "        os.mkdir(image_directory)\n",
    "        \n",
    "    image_filepath = os.path.join(image_directory, image_name)\n",
    "    \n",
    "    decoded_img = base64.b64decode(image_data)\n",
    "    \n",
    "    with open(image_filepath, \"wb\") as f:\n",
    "        f.write(decoded_img)\n",
    "    \n",
    "    "
   ]
  },
  {
   "cell_type": "code",
   "execution_count": 17,
   "id": "b0e5d432",
   "metadata": {},
   "outputs": [],
   "source": [
    "get_and_save_image(\"a friendly cactus sitting in a pot, digital art\", \"cactus.png\")"
   ]
  },
  {
   "cell_type": "code",
   "execution_count": 18,
   "id": "e05c2917",
   "metadata": {},
   "outputs": [],
   "source": [
    "get_and_save_image(\"a painting of a vase full of lollipops in the style of van gogh\", \"vangogh.png\")"
   ]
  },
  {
   "cell_type": "code",
   "execution_count": null,
   "id": "db9bd55c",
   "metadata": {},
   "outputs": [],
   "source": []
  }
 ],
 "metadata": {
  "kernelspec": {
   "display_name": "Python 3",
   "language": "python",
   "name": "python3"
  },
  "language_info": {
   "codemirror_mode": {
    "name": "ipython",
    "version": 3
   },
   "file_extension": ".py",
   "mimetype": "text/x-python",
   "name": "python",
   "nbconvert_exporter": "python",
   "pygments_lexer": "ipython3",
   "version": "3.8.8"
  }
 },
 "nbformat": 4,
 "nbformat_minor": 5
}
